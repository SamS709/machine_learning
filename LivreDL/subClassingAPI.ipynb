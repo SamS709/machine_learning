{
 "cells": [
  {
   "cell_type": "markdown",
   "metadata": {},
   "source": [
    "# Subclassing API (API de sous-classement)\n",
    "## Intérêt:\n",
    "Comportements dynamique permettant d'intéragire avec des boucles, des branchements conditionnels etc\n",
    "En effet, les API Sequentielles et fonctionnelles sont statiques."
   ]
  }
 ],
 "metadata": {
  "kernelspec": {
   "display_name": ".venv",
   "language": "python",
   "name": "python3"
  },
  "language_info": {
   "name": "python",
   "version": "3.8.0"
  }
 },
 "nbformat": 4,
 "nbformat_minor": 2
}
