{
 "cells": [
  {
   "cell_type": "markdown",
   "id": "2135154f",
   "metadata": {},
   "source": [
    "# Avec Q_learning"
   ]
  },
  {
   "cell_type": "code",
   "execution_count": null,
   "id": "17dfb585",
   "metadata": {},
   "outputs": [],
   "source": [
    "import numpy as np\n",
    "import tensorflow as tf\n",
    "import keras\n",
    "import cv2\n",
    "import gymnasium as gym\n",
    "import matplotlib.pyplot as plt\n",
    "from collections import deque"
   ]
  },
  {
   "cell_type": "code",
   "execution_count": null,
   "id": "49dfb2a6",
   "metadata": {},
   "outputs": [],
   "source": [
    "class Q_learning:\n",
    "\n",
    "    def __init__(self):\n",
    "        self.replay_buffer = deque(maxlen=2000)\n",
    "        self.model = keras.models.Sequential([])\n",
    "        self.gamma = 0.95\n",
    "        self.learning_rate = 0.01\n",
    "\n",
    "    def epsilon_greedy(self, state, eps):\n",
    "        if np.random.rand()<eps:\n",
    "            return np.randint(2)\n",
    "        else:\n",
    "            Q_values = self.model.predict(state[np.newaxis])[0]\n",
    "            return Q_values.argmax()\n",
    "        \n",
    "    def play_one_step(self, env, state, eps):\n",
    "        action = self.epsilon_greedy(state, eps)\n",
    "        next_state, reward, done, truncated, info = env(action)\n",
    "        self.deque.append([state, action, reward, next_state, done, truncated])\n",
    "        return state, action, reward, next_state, done, truncated\n",
    "    \n",
    "    def play_n_episodes\n",
    "    \n",
    "    def sample_experience(self, batch_size):\n",
    "        indexes = np.random.randint(len(self.replay_buffer),size=batch_size)\n",
    "        batch = [self.replay_buffer[index] for index in indexes]\n",
    "        return [np.array([experience[field] for experience in batch] for field in range(6))]\n",
    "    \n",
    "    def training_step(self,batch_size):\n",
    "        states, actions, rewards, next_states, dones, truncateds = self.sample_experience(batch_size=batch_size)\n",
    "        all_Q_values = self.model(states)\n",
    "        mask = tf.one_hot(actions,2)\n",
    "        Q_values = tf.sum(all_Q_values*mask,axis = 1,keepdims=True)\n"
   ]
  },
  {
   "cell_type": "code",
   "execution_count": null,
   "id": "331025b6",
   "metadata": {},
   "outputs": [],
   "source": [
    "\n"
   ]
  },
  {
   "cell_type": "code",
   "execution_count": null,
   "id": "e6c030dc",
   "metadata": {},
   "outputs": [],
   "source": [
    "\n"
   ]
  }
 ],
 "metadata": {
  "kernelspec": {
   "display_name": ".venv",
   "language": "python",
   "name": "python3"
  },
  "language_info": {
   "codemirror_mode": {
    "name": "ipython",
    "version": 3
   },
   "file_extension": ".py",
   "mimetype": "text/x-python",
   "name": "python",
   "nbconvert_exporter": "python",
   "pygments_lexer": "ipython3",
   "version": "3.8.0"
  }
 },
 "nbformat": 4,
 "nbformat_minor": 5
}
