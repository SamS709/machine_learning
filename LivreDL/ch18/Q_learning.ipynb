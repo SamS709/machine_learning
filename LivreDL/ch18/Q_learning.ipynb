{
 "cells": [
  {
   "cell_type": "markdown",
   "id": "2135154f",
   "metadata": {},
   "source": [
    "# Avec Q_learning"
   ]
  },
  {
   "cell_type": "code",
   "execution_count": 1,
   "id": "17dfb585",
   "metadata": {},
   "outputs": [],
   "source": [
    "import numpy as np\n",
    "import logging\n",
    "logging.getLogger('tensorflow').disabled = True\n",
    "import tensorflow as tf\n",
    "import keras\n",
    "import cv2\n",
    "import gymnasium as gym\n",
    "import matplotlib.pyplot as plt\n",
    "from collections import deque"
   ]
  },
  {
   "cell_type": "code",
   "execution_count": 6,
   "id": "49dfb2a6",
   "metadata": {},
   "outputs": [],
   "source": [
    "class DQN:\n",
    "\n",
    "    def __init__(self,model_name):\n",
    "        try:\n",
    "            self.model = keras.models.load_model(model_name)\n",
    "        except:\n",
    "            self.model = tf.keras.Sequential([\n",
    "            tf.keras.layers.Dense(32, activation=\"elu\", input_shape=[4]),\n",
    "            tf.keras.layers.Dense(32, activation=\"elu\"),\n",
    "            tf.keras.layers.Dense(2)\n",
    "        ])\n",
    "            self.model.save(model_name)\n",
    "        self.env = gym.make(\"CartPole-v1\",render_mode=\"rgb_array\")\n",
    "        self.replay_buffer = deque(maxlen=2000)\n",
    "        self.batch_size = 32\n",
    "        self.discount_factor = 0.95\n",
    "        self.optimizer = tf.keras.optimizers.Nadam(learning_rate=1e-2)\n",
    "        self.loss_fn = tf.keras.losses.mean_squared_error\n",
    "        self.model_name = model_name\n",
    "\n",
    "\n",
    "    def epsilon_greedy(self, state):\n",
    "        if np.random.rand()<self.epsilon:\n",
    "            return np.random.randint(2)\n",
    "        else:\n",
    "            Q_values = self.model.predict(state[np.newaxis],verbose=0)[0] \n",
    "            #np.newaxis augment la dimension de state\n",
    "            #verbose = 0 => don't show the progress bar of evaluating\n",
    "            return Q_values.argmax()\n",
    "        \n",
    "    def play_one_step(self, state ):\n",
    "        action = self.epsilon_greedy(state)\n",
    "        next_state, reward, done, truncated, info = self.env.step(action)\n",
    "        self.replay_buffer.append((state, action, reward, next_state, done, truncated))\n",
    "        return next_state, reward, done, truncated, info\n",
    "    \n",
    "    \n",
    "    def sample_experiences(self):\n",
    "        indexes = np.random.randint(len(self.replay_buffer),size=self.batch_size)\n",
    "        batch = [self.replay_buffer[index] for index in indexes]\n",
    "        return [\n",
    "                np.array([experience[field_index] for experience in batch])\n",
    "                for field_index in range(6)\n",
    "            ]    \n",
    "    def training_step(self):\n",
    "        experiences = self.sample_experiences()\n",
    "        states, actions, rewards, next_states, dones, truncateds = experiences\n",
    "        next_Q_values = self.model.predict(next_states, verbose=0)\n",
    "        max_next_Q_values = next_Q_values.max(axis=1)\n",
    "        runs = 1.0 - (dones | truncateds)  # episode is not done or truncated\n",
    "        target_Q_values = rewards + runs * self.discount_factor * max_next_Q_values\n",
    "        target_Q_values = target_Q_values.reshape(-1, 1)\n",
    "        mask = tf.one_hot(actions, 2)\n",
    "        with tf.GradientTape() as tape:\n",
    "            all_Q_values = self.model(states)\n",
    "            Q_values = tf.reduce_sum(all_Q_values * mask, axis=1, keepdims=True)\n",
    "            loss = tf.reduce_mean(self.loss_fn(target_Q_values, Q_values))\n",
    "            print(loss)\n",
    "        grads = tape.gradient(loss, self.model.trainable_variables)\n",
    "        self.optimizer.apply_gradients(zip(grads, self.model.trainable_variables))\n",
    "        self.model.save(self.model_name,overwrite=True)\n",
    "\n",
    "    def train_n_games(self,n):\n",
    "        game_rewards = []\n",
    "        for episode in range(n):\n",
    "            obs, info = self.env.reset()    \n",
    "            for step in range(500):\n",
    "                self.epsilon = max(0.7-episode/0.7/300,0.01)\n",
    "                obs, reward, done, truncated, info = self.play_one_step(obs)\n",
    "                final_step=step\n",
    "                if done or truncated:\n",
    "                    break\n",
    "            print(f\"\\rEpisode: {episode + 1}, Steps: {step + 1}, eps: {self.epsilon:.3f}\",end=\"\")\n",
    "            game_rewards.append(final_step)\n",
    "            if episode > 3 :\n",
    "                self.training_step()\n",
    "        \n",
    "        return game_rewards\n",
    "    \n",
    "    def make_video(self,video_name):\n",
    "        video = cv2.VideoWriter(video_name+str(\".avi\"),cv2.VideoWriter_fourcc(*'MJPG'),10,(600,400))\n",
    "        self.epsilon = 0\n",
    "        obs, info = self.env.reset()\n",
    "        for step in range(500):\n",
    "            obs, reward, done, truncated, info = self.play_one_step(obs)\n",
    "            img = self.env.render()\n",
    "            img = cv2.resize(img,(600,400))\n",
    "            video.write(img)\n",
    "            if done or truncated:\n",
    "                break\n",
    "        video.release()\n",
    "        cv2.destroyAllWindows() \n",
    "        \n",
    "\n",
    "\n"
   ]
  },
  {
   "cell_type": "code",
   "execution_count": 7,
   "id": "331025b6",
   "metadata": {},
   "outputs": [
    {
     "name": "stdout",
     "output_type": "stream",
     "text": [
      "Episode: 5, Steps: 77, eps: 0.681tf.Tensor(3.12087, shape=(), dtype=float32)\n"
     ]
    },
    {
     "data": {
      "image/png": "[encoded data removed]",
      "text/plain": [
       "<Figure size 640x480 with 1 Axes>"
      ]
     },
     "metadata": {},
     "output_type": "display_data"
    }
   ],
   "source": [
    "dqn = DQN(\"my_dqn_model4\")\n",
    "n = 5\n",
    "game_rewards = dqn.train_n_games(n)\n",
    "plt.plot(range(len(game_rewards)),game_rewards)\n",
    "plt.show()\n"
   ]
  },
  {
   "cell_type": "code",
   "execution_count": 55,
   "id": "e6c030dc",
   "metadata": {},
   "outputs": [],
   "source": [
    "dqn.make_video(\"my_video3\")\n"
   ]
  }
 ],
 "metadata": {
  "kernelspec": {
   "display_name": ".venv",
   "language": "python",
   "name": "python3"
  },
  "language_info": {
   "codemirror_mode": {
    "name": "ipython",
    "version": 3
   },
   "file_extension": ".py",
   "mimetype": "text/x-python",
   "name": "python",
   "nbconvert_exporter": "python",
   "pygments_lexer": "ipython3",
   "version": "3.8.0"
  }
 },
 "nbformat": 4,
 "nbformat_minor": 5
}
