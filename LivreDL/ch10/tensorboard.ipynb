{
 "cells": [
  {
   "cell_type": "markdown",
   "metadata": {},
   "source": [
    "# Utilisation de Tensorboard"
   ]
  },
  {
   "cell_type": "markdown",
   "metadata": {},
   "source": [
    "But : visualiser les données d'apprentissage dynamique (courbe de perte etc)"
   ]
  },
  {
   "cell_type": "markdown",
   "metadata": {},
   "source": [
    "On créé une fonction qui permet d'enregistrer les données dans un fichier ayant un nom différent à chaque fois"
   ]
  },
  {
   "cell_type": "code",
   "execution_count": 32,
   "metadata": {},
   "outputs": [],
   "source": [
    "import tensorflow as tf\n",
    "import keras\n",
    "import matplotlib.pyplot as plt\n",
    "from sklearn.datasets import fetch_california_housing\n",
    "from sklearn.model_selection import train_test_split\n",
    "\n"
   ]
  },
  {
   "cell_type": "code",
   "execution_count": 33,
   "metadata": {},
   "outputs": [],
   "source": [
    "housing = fetch_california_housing()\n",
    "X_train,X_test,y_train,y_test = train_test_split(housing.data,housing.target,test_size=0.2,random_state=42)"
   ]
  },
  {
   "cell_type": "code",
   "execution_count": 34,
   "metadata": {},
   "outputs": [],
   "source": [
    "norm_layer = keras.layers.Normalization(input_shape = X_train.shape[1:])"
   ]
  },
  {
   "cell_type": "code",
   "execution_count": 35,
   "metadata": {},
   "outputs": [],
   "source": [
    "model = keras.Sequential([\n",
    "    norm_layer,\n",
    "    keras.layers.Dense(30,\"relu\"),\n",
    "    keras.layers.Dense(30,\"relu\"),\n",
    "    keras.layers.Dense(1)\n",
    "])\n",
    "optimizer = keras.optimizers.Adam(learning_rate=5e-3)\n",
    "model.compile(optimizer=optimizer,\n",
    "              loss='mse',\n",
    "              metrics=['RootMeanSquaredError'])\n",
    "norm_layer.adapt(X_train)\n"
   ]
  },
  {
   "cell_type": "code",
   "execution_count": 36,
   "metadata": {},
   "outputs": [],
   "source": [
    "from pathlib import Path\n",
    "from time import strftime\n",
    "\n",
    "def get_run_logdir(root_logdir=\"my_logs\"):\n",
    "    return Path(root_logdir) / strftime(\"run_%Y_%m_%d_%H_%M_%S\")\n",
    "\n",
    "run_logdir = get_run_logdir()"
   ]
  },
  {
   "cell_type": "code",
   "execution_count": 37,
   "metadata": {},
   "outputs": [],
   "source": [
    "# création d'un callback tensorboard\n",
    "\n",
    "tensorboard_cb = keras.callbacks.TensorBoard(log_dir = run_logdir,profile_batch=(100,200))"
   ]
  },
  {
   "cell_type": "code",
   "execution_count": 38,
   "metadata": {},
   "outputs": [
    {
     "name": "stdout",
     "output_type": "stream",
     "text": [
      "Epoch 1/30\n",
      "413/413 [==============================] - 2s 3ms/step - loss: 0.6338 - root_mean_squared_error: 0.7961 - val_loss: 0.4816 - val_root_mean_squared_error: 0.6940\n",
      "Epoch 2/30\n",
      "413/413 [==============================] - 1s 2ms/step - loss: 0.3823 - root_mean_squared_error: 0.6183 - val_loss: 0.4103 - val_root_mean_squared_error: 0.6405\n",
      "Epoch 3/30\n",
      "413/413 [==============================] - 1s 2ms/step - loss: 0.3622 - root_mean_squared_error: 0.6018 - val_loss: 0.3583 - val_root_mean_squared_error: 0.5986\n",
      "Epoch 4/30\n",
      "413/413 [==============================] - 1s 2ms/step - loss: 0.3361 - root_mean_squared_error: 0.5797 - val_loss: 0.4630 - val_root_mean_squared_error: 0.6804\n",
      "Epoch 5/30\n",
      "413/413 [==============================] - 1s 2ms/step - loss: 0.3287 - root_mean_squared_error: 0.5733 - val_loss: 0.3484 - val_root_mean_squared_error: 0.5903\n",
      "Epoch 6/30\n",
      "413/413 [==============================] - 1s 2ms/step - loss: 0.3229 - root_mean_squared_error: 0.5682 - val_loss: 0.3422 - val_root_mean_squared_error: 0.5850\n",
      "Epoch 7/30\n",
      "413/413 [==============================] - 1s 2ms/step - loss: 0.3108 - root_mean_squared_error: 0.5575 - val_loss: 0.3266 - val_root_mean_squared_error: 0.5715\n",
      "Epoch 8/30\n",
      "413/413 [==============================] - 1s 2ms/step - loss: 0.3074 - root_mean_squared_error: 0.5545 - val_loss: 0.3371 - val_root_mean_squared_error: 0.5806\n",
      "Epoch 9/30\n",
      "413/413 [==============================] - 1s 2ms/step - loss: 0.3002 - root_mean_squared_error: 0.5479 - val_loss: 0.3489 - val_root_mean_squared_error: 0.5907\n",
      "Epoch 10/30\n",
      "413/413 [==============================] - 1s 2ms/step - loss: 0.3052 - root_mean_squared_error: 0.5525 - val_loss: 0.3366 - val_root_mean_squared_error: 0.5801\n",
      "Epoch 11/30\n",
      "413/413 [==============================] - 1s 2ms/step - loss: 0.2946 - root_mean_squared_error: 0.5427 - val_loss: 0.3197 - val_root_mean_squared_error: 0.5654\n",
      "Epoch 12/30\n",
      "413/413 [==============================] - 1s 2ms/step - loss: 0.3037 - root_mean_squared_error: 0.5511 - val_loss: 0.3150 - val_root_mean_squared_error: 0.5613\n",
      "Epoch 13/30\n",
      "413/413 [==============================] - 1s 2ms/step - loss: 0.2908 - root_mean_squared_error: 0.5393 - val_loss: 0.3129 - val_root_mean_squared_error: 0.5594\n",
      "Epoch 14/30\n",
      "413/413 [==============================] - 1s 2ms/step - loss: 0.2878 - root_mean_squared_error: 0.5364 - val_loss: 0.3084 - val_root_mean_squared_error: 0.5553\n",
      "Epoch 15/30\n",
      "413/413 [==============================] - 1s 2ms/step - loss: 0.2808 - root_mean_squared_error: 0.5299 - val_loss: 0.2986 - val_root_mean_squared_error: 0.5464\n",
      "Epoch 16/30\n",
      "413/413 [==============================] - 1s 2ms/step - loss: 0.2917 - root_mean_squared_error: 0.5401 - val_loss: 0.2979 - val_root_mean_squared_error: 0.5458\n",
      "Epoch 17/30\n",
      "413/413 [==============================] - 1s 2ms/step - loss: 0.2763 - root_mean_squared_error: 0.5256 - val_loss: 0.3068 - val_root_mean_squared_error: 0.5539\n",
      "Epoch 18/30\n",
      "413/413 [==============================] - 1s 2ms/step - loss: 0.2781 - root_mean_squared_error: 0.5274 - val_loss: 0.3175 - val_root_mean_squared_error: 0.5635\n",
      "Epoch 19/30\n",
      "413/413 [==============================] - 1s 2ms/step - loss: 0.2723 - root_mean_squared_error: 0.5218 - val_loss: 0.3038 - val_root_mean_squared_error: 0.5512\n",
      "Epoch 20/30\n",
      "413/413 [==============================] - 1s 2ms/step - loss: 0.2727 - root_mean_squared_error: 0.5222 - val_loss: 0.3012 - val_root_mean_squared_error: 0.5488\n",
      "Epoch 21/30\n",
      "413/413 [==============================] - 1s 2ms/step - loss: 0.2726 - root_mean_squared_error: 0.5221 - val_loss: 0.3069 - val_root_mean_squared_error: 0.5540\n",
      "Epoch 22/30\n",
      "413/413 [==============================] - 1s 2ms/step - loss: 0.2729 - root_mean_squared_error: 0.5224 - val_loss: 0.3118 - val_root_mean_squared_error: 0.5584\n",
      "Epoch 23/30\n",
      "413/413 [==============================] - 1s 2ms/step - loss: 0.2690 - root_mean_squared_error: 0.5187 - val_loss: 0.3150 - val_root_mean_squared_error: 0.5612\n",
      "Epoch 24/30\n",
      "413/413 [==============================] - 1s 2ms/step - loss: 0.2679 - root_mean_squared_error: 0.5175 - val_loss: 0.3004 - val_root_mean_squared_error: 0.5481\n",
      "Epoch 25/30\n",
      "413/413 [==============================] - 1s 2ms/step - loss: 0.2679 - root_mean_squared_error: 0.5176 - val_loss: 0.3056 - val_root_mean_squared_error: 0.5528\n",
      "Epoch 26/30\n",
      "413/413 [==============================] - 1s 2ms/step - loss: 0.2636 - root_mean_squared_error: 0.5134 - val_loss: 0.2902 - val_root_mean_squared_error: 0.5387\n",
      "Epoch 27/30\n",
      "413/413 [==============================] - 1s 2ms/step - loss: 0.2621 - root_mean_squared_error: 0.5120 - val_loss: 0.2879 - val_root_mean_squared_error: 0.5365\n",
      "Epoch 28/30\n",
      "413/413 [==============================] - 1s 2ms/step - loss: 0.2598 - root_mean_squared_error: 0.5097 - val_loss: 0.2935 - val_root_mean_squared_error: 0.5418\n",
      "Epoch 29/30\n",
      "413/413 [==============================] - 1s 2ms/step - loss: 0.2599 - root_mean_squared_error: 0.5098 - val_loss: 0.2989 - val_root_mean_squared_error: 0.5467\n",
      "Epoch 30/30\n",
      "413/413 [==============================] - 1s 2ms/step - loss: 0.2587 - root_mean_squared_error: 0.5086 - val_loss: 0.2970 - val_root_mean_squared_error: 0.5449\n"
     ]
    },
    {
     "data": {
      "text/plain": [
       "<keras.src.callbacks.History at 0x22742824880>"
      ]
     },
     "execution_count": 38,
     "metadata": {},
     "output_type": "execute_result"
    }
   ],
   "source": [
    "model.fit(X_train,\n",
    "          y_train,\n",
    "          epochs=30,\n",
    "          validation_split=0.2,\n",
    "          callbacks=[tensorboard_cb])"
   ]
  },
  {
   "cell_type": "markdown",
   "metadata": {},
   "source": [
    "<p>Tapper la ligne de code qui suit dans le répertiore où se trouve my_logs:</p>\n",
    "```bash\n",
    "tensorboard --logdir=./my_logs\n",
    "```\n"
   ]
  }
 ],
 "metadata": {
  "kernelspec": {
   "display_name": ".venv",
   "language": "python",
   "name": "python3"
  },
  "language_info": {
   "codemirror_mode": {
    "name": "ipython",
    "version": 3
   },
   "file_extension": ".py",
   "mimetype": "text/x-python",
   "name": "python",
   "nbconvert_exporter": "python",
   "pygments_lexer": "ipython3",
   "version": "3.8.0"
  }
 },
 "nbformat": 4,
 "nbformat_minor": 2
}
