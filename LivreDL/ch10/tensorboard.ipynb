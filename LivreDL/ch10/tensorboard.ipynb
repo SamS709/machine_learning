{
 "cells": [
  {
   "cell_type": "markdown",
   "metadata": {},
   "source": [
    "# Utilisation de Tensorboard"
   ]
  },
  {
   "cell_type": "markdown",
   "metadata": {},
   "source": [
    "But : visualiser les données d'apprentissage dynamique (courbe de perte etc)"
   ]
  },
  {
   "cell_type": "markdown",
   "metadata": {},
   "source": [
    "On créé une fonction qui permet d'enregistrer les données dans un fichier ayant un nom différent à chaque fois"
   ]
  },
  {
   "cell_type": "code",
   "execution_count": 2,
   "metadata": {},
   "outputs": [],
   "source": [
    "import tensorflow as tf\n",
    "import keras\n",
    "import matplotlib.pyplot as plt\n",
    "from sklearn.datasets import fetch_california_housing\n",
    "from sklearn.model_selection import train_test_split\n",
    "\n"
   ]
  },
  {
   "cell_type": "code",
   "execution_count": 3,
   "metadata": {},
   "outputs": [],
   "source": [
    "housing = fetch_california_housing()\n",
    "X_train,X_test,y_train,y_test = train_test_split(housing.data,housing.target,test_size=0.2,random_state=42)"
   ]
  },
  {
   "cell_type": "code",
   "execution_count": 4,
   "metadata": {},
   "outputs": [],
   "source": [
    "norm_layer = keras.layers.Normalization(input_shape = X_train.shape[1:])"
   ]
  },
  {
   "cell_type": "code",
   "execution_count": 5,
   "metadata": {},
   "outputs": [],
   "source": [
    "model = keras.Sequential([\n",
    "    norm_layer,\n",
    "    keras.layers.Dense(30,\"relu\"),\n",
    "    keras.layers.Dense(30,\"relu\"),\n",
    "    keras.layers.Dense(1)\n",
    "])\n",
    "optimizer = keras.optimizers.Adam(learning_rate=5e-3)\n",
    "model.compile(optimizer=optimizer,\n",
    "              loss='mse',\n",
    "              metrics=['RootMeanSquaredError'])\n",
    "norm_layer.adapt(X_train)\n"
   ]
  },
  {
   "cell_type": "code",
   "execution_count": 6,
   "metadata": {},
   "outputs": [],
   "source": [
    "from pathlib import Path\n",
    "from time import strftime\n",
    "\n",
    "def get_run_logdir(root_logdir=\"my_logs\"):\n",
    "    return Path(root_logdir) / strftime(\"run_%Y_%m_%d_%H_%M_%S\")\n",
    "\n",
    "run_logdir = get_run_logdir()"
   ]
  },
  {
   "cell_type": "code",
   "execution_count": 7,
   "metadata": {},
   "outputs": [],
   "source": [
    "# création d'un callback tensorboard\n",
    "\n",
    "tensorboard_cb = keras.callbacks.TensorBoard(log_dir = run_logdir,profile_batch=(100,200))"
   ]
  },
  {
   "cell_type": "code",
   "execution_count": 8,
   "metadata": {},
   "outputs": [
    {
     "name": "stdout",
     "output_type": "stream",
     "text": [
      "Epoch 1/30\n",
      "413/413 [==============================] - 2s 3ms/step - loss: 0.7165 - root_mean_squared_error: 0.8465 - val_loss: 0.4362 - val_root_mean_squared_error: 0.6604\n",
      "Epoch 2/30\n",
      "413/413 [==============================] - 1s 2ms/step - loss: 0.3987 - root_mean_squared_error: 0.6314 - val_loss: 0.4077 - val_root_mean_squared_error: 0.6385\n",
      "Epoch 3/30\n",
      "413/413 [==============================] - 1s 2ms/step - loss: 0.3942 - root_mean_squared_error: 0.6279 - val_loss: 0.3849 - val_root_mean_squared_error: 0.6204\n",
      "Epoch 4/30\n",
      "413/413 [==============================] - 1s 2ms/step - loss: 0.3421 - root_mean_squared_error: 0.5849 - val_loss: 0.3758 - val_root_mean_squared_error: 0.6131\n",
      "Epoch 5/30\n",
      "413/413 [==============================] - 1s 2ms/step - loss: 0.3271 - root_mean_squared_error: 0.5719 - val_loss: 0.3704 - val_root_mean_squared_error: 0.6086\n",
      "Epoch 6/30\n",
      "413/413 [==============================] - 1s 2ms/step - loss: 0.3313 - root_mean_squared_error: 0.5756 - val_loss: 0.3514 - val_root_mean_squared_error: 0.5928\n",
      "Epoch 7/30\n",
      "413/413 [==============================] - 1s 2ms/step - loss: 0.3165 - root_mean_squared_error: 0.5626 - val_loss: 0.3383 - val_root_mean_squared_error: 0.5816\n",
      "Epoch 8/30\n",
      "413/413 [==============================] - 1s 2ms/step - loss: 0.3134 - root_mean_squared_error: 0.5598 - val_loss: 0.3364 - val_root_mean_squared_error: 0.5800\n",
      "Epoch 9/30\n",
      "413/413 [==============================] - 1s 2ms/step - loss: 0.3089 - root_mean_squared_error: 0.5558 - val_loss: 0.3415 - val_root_mean_squared_error: 0.5844\n",
      "Epoch 10/30\n",
      "413/413 [==============================] - 1s 2ms/step - loss: 0.3040 - root_mean_squared_error: 0.5513 - val_loss: 0.3234 - val_root_mean_squared_error: 0.5687\n",
      "Epoch 11/30\n",
      "413/413 [==============================] - 1s 2ms/step - loss: 0.2990 - root_mean_squared_error: 0.5468 - val_loss: 0.3281 - val_root_mean_squared_error: 0.5728\n",
      "Epoch 12/30\n",
      "413/413 [==============================] - 1s 2ms/step - loss: 0.2964 - root_mean_squared_error: 0.5444 - val_loss: 0.3083 - val_root_mean_squared_error: 0.5552\n",
      "Epoch 13/30\n",
      "413/413 [==============================] - 1s 2ms/step - loss: 0.3085 - root_mean_squared_error: 0.5554 - val_loss: 0.3134 - val_root_mean_squared_error: 0.5598\n",
      "Epoch 14/30\n",
      "413/413 [==============================] - 1s 2ms/step - loss: 0.2894 - root_mean_squared_error: 0.5379 - val_loss: 0.3373 - val_root_mean_squared_error: 0.5807\n",
      "Epoch 15/30\n",
      "413/413 [==============================] - 1s 2ms/step - loss: 0.2867 - root_mean_squared_error: 0.5355 - val_loss: 0.3124 - val_root_mean_squared_error: 0.5590\n",
      "Epoch 16/30\n",
      "413/413 [==============================] - 1s 2ms/step - loss: 0.2870 - root_mean_squared_error: 0.5358 - val_loss: 0.3409 - val_root_mean_squared_error: 0.5838\n",
      "Epoch 17/30\n",
      "413/413 [==============================] - 1s 2ms/step - loss: 0.2854 - root_mean_squared_error: 0.5343 - val_loss: 0.3047 - val_root_mean_squared_error: 0.5520\n",
      "Epoch 18/30\n",
      "413/413 [==============================] - 1s 2ms/step - loss: 0.2817 - root_mean_squared_error: 0.5307 - val_loss: 0.3059 - val_root_mean_squared_error: 0.5531\n",
      "Epoch 19/30\n",
      "413/413 [==============================] - 1s 2ms/step - loss: 0.2776 - root_mean_squared_error: 0.5269 - val_loss: 0.3108 - val_root_mean_squared_error: 0.5575\n",
      "Epoch 20/30\n",
      "413/413 [==============================] - 1s 2ms/step - loss: 0.2736 - root_mean_squared_error: 0.5231 - val_loss: 0.3171 - val_root_mean_squared_error: 0.5632\n",
      "Epoch 21/30\n",
      "413/413 [==============================] - 1s 2ms/step - loss: 0.2731 - root_mean_squared_error: 0.5226 - val_loss: 0.3120 - val_root_mean_squared_error: 0.5586\n",
      "Epoch 22/30\n",
      "413/413 [==============================] - 1s 3ms/step - loss: 0.2701 - root_mean_squared_error: 0.5197 - val_loss: 0.3057 - val_root_mean_squared_error: 0.5529\n",
      "Epoch 23/30\n",
      "413/413 [==============================] - 1s 2ms/step - loss: 0.2737 - root_mean_squared_error: 0.5232 - val_loss: 0.2960 - val_root_mean_squared_error: 0.5440\n",
      "Epoch 24/30\n",
      "413/413 [==============================] - 1s 2ms/step - loss: 0.2697 - root_mean_squared_error: 0.5194 - val_loss: 0.3234 - val_root_mean_squared_error: 0.5686\n",
      "Epoch 25/30\n",
      "413/413 [==============================] - 1s 2ms/step - loss: 0.2659 - root_mean_squared_error: 0.5156 - val_loss: 0.3012 - val_root_mean_squared_error: 0.5488\n",
      "Epoch 26/30\n",
      "413/413 [==============================] - 1s 2ms/step - loss: 0.2693 - root_mean_squared_error: 0.5189 - val_loss: 0.3056 - val_root_mean_squared_error: 0.5528\n",
      "Epoch 27/30\n",
      "413/413 [==============================] - 1s 2ms/step - loss: 0.2727 - root_mean_squared_error: 0.5222 - val_loss: 0.2981 - val_root_mean_squared_error: 0.5460\n",
      "Epoch 28/30\n",
      "413/413 [==============================] - 1s 2ms/step - loss: 0.2667 - root_mean_squared_error: 0.5165 - val_loss: 0.3166 - val_root_mean_squared_error: 0.5627\n",
      "Epoch 29/30\n",
      "413/413 [==============================] - 1s 2ms/step - loss: 0.2655 - root_mean_squared_error: 0.5153 - val_loss: 0.3020 - val_root_mean_squared_error: 0.5496\n",
      "Epoch 30/30\n",
      "413/413 [==============================] - 1s 2ms/step - loss: 0.2631 - root_mean_squared_error: 0.5130 - val_loss: 0.2889 - val_root_mean_squared_error: 0.5375\n"
     ]
    },
    {
     "data": {
      "text/plain": [
       "<keras.src.callbacks.History at 0x22de0b56730>"
      ]
     },
     "execution_count": 8,
     "metadata": {},
     "output_type": "execute_result"
    }
   ],
   "source": [
    "model.fit(X_train,\n",
    "          y_train,\n",
    "          epochs=30,\n",
    "          validation_split=0.2,\n",
    "          callbacks=[tensorboard_cb])"
   ]
  },
  {
   "cell_type": "markdown",
   "metadata": {},
   "source": [
    "<p>Tapper la ligne de code qui suit dans le répertiore où se trouve my_logs:</p>\n",
    "```bashtensorboard --logdir=./my_logs\n",
    "\n",
    "```\n"
   ]
  }
 ],
 "metadata": {
  "kernelspec": {
   "display_name": ".venv",
   "language": "python",
   "name": "python3"
  },
  "language_info": {
   "codemirror_mode": {
    "name": "ipython",
    "version": 3
   },
   "file_extension": ".py",
   "mimetype": "text/x-python",
   "name": "python",
   "nbconvert_exporter": "python",
   "pygments_lexer": "ipython3",
   "version": "3.8.0"
  }
 },
 "nbformat": 4,
 "nbformat_minor": 2
}
