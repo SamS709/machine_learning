{
 "cells": [
  {
   "cell_type": "markdown",
   "id": "6b82a6c6",
   "metadata": {},
   "source": [
    "Crétion du réseau de neurones"
   ]
  },
  {
   "cell_type": "code",
   "execution_count": 2,
   "id": "abb984b8",
   "metadata": {},
   "outputs": [],
   "source": [
    "import keras \n",
    "import tensorflow as tf\n",
    "\n",
    "model = keras.models.Sequential()\n",
    "model.add(keras.layers.Flatten(input_shape=(32, 32,3)))\n",
    "for i in range(20):\n",
    "    model.add(keras.layers.Dense(100,kernel_initializer = \"he_normal\", activation = \"swish\"))\n",
    "model.add(keras.layers.Dense(10,activation=\"softmax\"))\n"
   ]
  },
  {
   "cell_type": "code",
   "execution_count": 3,
   "id": "3dfd75d1",
   "metadata": {},
   "outputs": [],
   "source": [
    "(X_train,y_train),(X_test,y_test) = tf.keras.datasets.cifar10.load_data()"
   ]
  },
  {
   "cell_type": "code",
   "execution_count": 11,
   "id": "ee96ebb8",
   "metadata": {},
   "outputs": [
    {
     "data": {
      "text/plain": [
       "(50000, 32, 32, 3)"
      ]
     },
     "execution_count": 11,
     "metadata": {},
     "output_type": "execute_result"
    }
   ],
   "source": [
    "X_train.shape"
   ]
  },
  {
   "cell_type": "code",
   "execution_count": 12,
   "id": "afb70e22",
   "metadata": {},
   "outputs": [
    {
     "data": {
      "text/plain": [
       "<matplotlib.image.AxesImage at 0x2eae8e99e20>"
      ]
     },
     "execution_count": 12,
     "metadata": {},
     "output_type": "execute_result"
    },
    {
     "data": {
      "image/png": "[encoded data removed]",
      "text/plain": [
       "<Figure size 640x480 with 1 Axes>"
      ]
     },
     "metadata": {},
     "output_type": "display_data"
    }
   ],
   "source": [
    "import matplotlib.pyplot as plt\n",
    "\n",
    "plt.imshow(X_train[6])"
   ]
  },
  {
   "cell_type": "code",
   "execution_count": 5,
   "id": "ee07cfac",
   "metadata": {},
   "outputs": [],
   "source": [
    "from pathlib import Path\n",
    "from time import strftime\n",
    "\n",
    "def get_run_logdir(root_logdir=\"my_logs\"):\n",
    "    return Path(root_logdir) / strftime(\"run_%Y_%m_%d_%H_%M_%S\")\n",
    "\n",
    "run_logdir = get_run_logdir()"
   ]
  },
  {
   "cell_type": "code",
   "execution_count": 14,
   "id": "06cc507f",
   "metadata": {},
   "outputs": [],
   "source": [
    "tensorboard_cb = keras.callbacks.TensorBoard(log_dir = run_logdir,profile_batch=(100,200))\n",
    "optimizer = keras.optimizers.Nadam()\n",
    "early_stopping_cb = keras.callbacks.EarlyStopping(patience=11)\n",
    "lr = keras.callbacks.ReduceLROnPlateau(factor=0.5,patience = 5)"
   ]
  },
  {
   "cell_type": "code",
   "execution_count": 15,
   "id": "04c8e217",
   "metadata": {},
   "outputs": [],
   "source": [
    "model.compile(optimizer=optimizer,\n",
    "              loss=\"sparse_categorical_crossentropy\",\n",
    "              metrics=[\"accuracy\"])\n"
   ]
  },
  {
   "cell_type": "code",
   "execution_count": 16,
   "id": "3535fbd6",
   "metadata": {},
   "outputs": [
    {
     "name": "stdout",
     "output_type": "stream",
     "text": [
      "Epoch 1/50\n",
      "1250/1250 [==============================] - 20s 11ms/step - loss: 2.7739 - accuracy: 0.2112 - val_loss: 2.0000 - val_accuracy: 0.2452 - lr: 0.0010\n",
      "Epoch 2/50\n",
      "1250/1250 [==============================] - 14s 11ms/step - loss: 1.9212 - accuracy: 0.2920 - val_loss: 1.8920 - val_accuracy: 0.3187 - lr: 0.0010\n",
      "Epoch 3/50\n",
      "1250/1250 [==============================] - 15s 12ms/step - loss: 1.8631 - accuracy: 0.3181 - val_loss: 1.8761 - val_accuracy: 0.3091 - lr: 0.0010\n",
      "Epoch 4/50\n",
      "1250/1250 [==============================] - 14s 11ms/step - loss: 1.8326 - accuracy: 0.3355 - val_loss: 1.8283 - val_accuracy: 0.3324 - lr: 0.0010\n",
      "Epoch 5/50\n",
      "1250/1250 [==============================] - 14s 11ms/step - loss: 1.8021 - accuracy: 0.3440 - val_loss: 1.8454 - val_accuracy: 0.3421 - lr: 0.0010\n",
      "Epoch 6/50\n",
      "1250/1250 [==============================] - 14s 11ms/step - loss: 1.7851 - accuracy: 0.3517 - val_loss: 1.7630 - val_accuracy: 0.3612 - lr: 0.0010\n",
      "Epoch 7/50\n",
      "1250/1250 [==============================] - 13s 10ms/step - loss: 1.7540 - accuracy: 0.3659 - val_loss: 1.7659 - val_accuracy: 0.3554 - lr: 0.0010\n",
      "Epoch 8/50\n",
      "1250/1250 [==============================] - 13s 10ms/step - loss: 1.7365 - accuracy: 0.3742 - val_loss: 1.7914 - val_accuracy: 0.3425 - lr: 0.0010\n",
      "Epoch 9/50\n",
      "1250/1250 [==============================] - 13s 11ms/step - loss: 1.7136 - accuracy: 0.3859 - val_loss: 1.7228 - val_accuracy: 0.3851 - lr: 0.0010\n",
      "Epoch 10/50\n",
      "1250/1250 [==============================] - 14s 11ms/step - loss: 1.9505 - accuracy: 0.3199 - val_loss: 1.8063 - val_accuracy: 0.3358 - lr: 0.0010\n",
      "Epoch 11/50\n",
      "1250/1250 [==============================] - 61s 49ms/step - loss: 1.7573 - accuracy: 0.3614 - val_loss: 1.7888 - val_accuracy: 0.3477 - lr: 0.0010\n",
      "Epoch 12/50\n",
      "1250/1250 [==============================] - 25s 20ms/step - loss: 1.7271 - accuracy: 0.3753 - val_loss: 1.7736 - val_accuracy: 0.3593 - lr: 0.0010\n",
      "Epoch 13/50\n",
      "1250/1250 [==============================] - 24s 20ms/step - loss: 1.7053 - accuracy: 0.3855 - val_loss: 1.7100 - val_accuracy: 0.3857 - lr: 0.0010\n",
      "Epoch 14/50\n",
      "1250/1250 [==============================] - 21s 17ms/step - loss: 1.6929 - accuracy: 0.3880 - val_loss: 1.7773 - val_accuracy: 0.3643 - lr: 0.0010\n",
      "Epoch 15/50\n",
      "1250/1250 [==============================] - 18s 14ms/step - loss: 1.7987 - accuracy: 0.3330 - val_loss: 1.8407 - val_accuracy: 0.3067 - lr: 0.0010\n",
      "Epoch 16/50\n",
      "1250/1250 [==============================] - 16s 13ms/step - loss: 1.8041 - accuracy: 0.3286 - val_loss: 1.8647 - val_accuracy: 0.3292 - lr: 0.0010\n",
      "Epoch 17/50\n",
      "1250/1250 [==============================] - 14s 11ms/step - loss: 1.7775 - accuracy: 0.3419 - val_loss: 1.7866 - val_accuracy: 0.3515 - lr: 0.0010\n",
      "Epoch 18/50\n",
      "1250/1250 [==============================] - 14s 11ms/step - loss: 1.7513 - accuracy: 0.3551 - val_loss: 1.7605 - val_accuracy: 0.3558 - lr: 0.0010\n",
      "Epoch 19/50\n",
      "1250/1250 [==============================] - 14s 11ms/step - loss: 1.6917 - accuracy: 0.3778 - val_loss: 1.7411 - val_accuracy: 0.3634 - lr: 5.0000e-04\n",
      "Epoch 20/50\n",
      "1250/1250 [==============================] - 14s 11ms/step - loss: 1.6716 - accuracy: 0.3880 - val_loss: 1.7085 - val_accuracy: 0.3818 - lr: 5.0000e-04\n",
      "Epoch 21/50\n",
      "1250/1250 [==============================] - 14s 11ms/step - loss: 1.6534 - accuracy: 0.3954 - val_loss: 1.7113 - val_accuracy: 0.3817 - lr: 5.0000e-04\n",
      "Epoch 22/50\n",
      "1250/1250 [==============================] - 14s 11ms/step - loss: 1.6374 - accuracy: 0.4019 - val_loss: 1.6793 - val_accuracy: 0.3973 - lr: 5.0000e-04\n",
      "Epoch 23/50\n",
      "1250/1250 [==============================] - 14s 11ms/step - loss: 1.6293 - accuracy: 0.4049 - val_loss: 1.6791 - val_accuracy: 0.3928 - lr: 5.0000e-04\n",
      "Epoch 24/50\n",
      "1250/1250 [==============================] - 13s 11ms/step - loss: 1.6129 - accuracy: 0.4115 - val_loss: 1.6589 - val_accuracy: 0.4053 - lr: 5.0000e-04\n",
      "Epoch 25/50\n",
      "1250/1250 [==============================] - 14s 11ms/step - loss: 1.6016 - accuracy: 0.4201 - val_loss: 1.6605 - val_accuracy: 0.4057 - lr: 5.0000e-04\n",
      "Epoch 26/50\n",
      "1250/1250 [==============================] - 14s 11ms/step - loss: 1.5924 - accuracy: 0.4241 - val_loss: 1.6523 - val_accuracy: 0.4096 - lr: 5.0000e-04\n",
      "Epoch 27/50\n",
      "1250/1250 [==============================] - 13s 11ms/step - loss: 1.5837 - accuracy: 0.4282 - val_loss: 1.6883 - val_accuracy: 0.3961 - lr: 5.0000e-04\n",
      "Epoch 28/50\n",
      "1250/1250 [==============================] - 14s 11ms/step - loss: 1.5781 - accuracy: 0.4295 - val_loss: 1.6444 - val_accuracy: 0.4169 - lr: 5.0000e-04\n",
      "Epoch 29/50\n",
      "1250/1250 [==============================] - 16s 13ms/step - loss: 1.5674 - accuracy: 0.4338 - val_loss: 1.6399 - val_accuracy: 0.4155 - lr: 5.0000e-04\n",
      "Epoch 30/50\n",
      "1250/1250 [==============================] - 15s 12ms/step - loss: 1.5617 - accuracy: 0.4365 - val_loss: 1.6710 - val_accuracy: 0.3957 - lr: 5.0000e-04\n",
      "Epoch 31/50\n",
      "1250/1250 [==============================] - 13s 11ms/step - loss: 1.5572 - accuracy: 0.4404 - val_loss: 1.6869 - val_accuracy: 0.4010 - lr: 5.0000e-04\n",
      "Epoch 32/50\n",
      "1250/1250 [==============================] - 13s 11ms/step - loss: 1.5503 - accuracy: 0.4398 - val_loss: 1.6276 - val_accuracy: 0.4206 - lr: 5.0000e-04\n",
      "Epoch 33/50\n",
      "1250/1250 [==============================] - 13s 11ms/step - loss: 1.5448 - accuracy: 0.4430 - val_loss: 1.6665 - val_accuracy: 0.4035 - lr: 5.0000e-04\n",
      "Epoch 34/50\n",
      "1250/1250 [==============================] - 15s 12ms/step - loss: 1.5399 - accuracy: 0.4470 - val_loss: 1.6228 - val_accuracy: 0.4162 - lr: 5.0000e-04\n",
      "Epoch 35/50\n",
      "1250/1250 [==============================] - 18s 15ms/step - loss: 1.5428 - accuracy: 0.4430 - val_loss: 1.6360 - val_accuracy: 0.4141 - lr: 5.0000e-04\n",
      "Epoch 36/50\n",
      "1250/1250 [==============================] - 17s 14ms/step - loss: 1.5290 - accuracy: 0.4493 - val_loss: 1.6283 - val_accuracy: 0.4230 - lr: 5.0000e-04\n",
      "Epoch 37/50\n",
      "1250/1250 [==============================] - 15s 12ms/step - loss: 1.5252 - accuracy: 0.4534 - val_loss: 1.6279 - val_accuracy: 0.4172 - lr: 5.0000e-04\n",
      "Epoch 38/50\n",
      "1250/1250 [==============================] - 19s 15ms/step - loss: 1.5171 - accuracy: 0.4563 - val_loss: 1.6298 - val_accuracy: 0.4236 - lr: 5.0000e-04\n",
      "Epoch 39/50\n",
      "1250/1250 [==============================] - 14s 11ms/step - loss: 1.5137 - accuracy: 0.4567 - val_loss: 1.6518 - val_accuracy: 0.4180 - lr: 5.0000e-04\n",
      "Epoch 40/50\n",
      "1250/1250 [==============================] - 14s 11ms/step - loss: 1.4736 - accuracy: 0.4700 - val_loss: 1.6101 - val_accuracy: 0.4282 - lr: 2.5000e-04\n",
      "Epoch 41/50\n",
      "1250/1250 [==============================] - 14s 11ms/step - loss: 1.4637 - accuracy: 0.4737 - val_loss: 1.6141 - val_accuracy: 0.4302 - lr: 2.5000e-04\n",
      "Epoch 42/50\n",
      "1250/1250 [==============================] - 13s 10ms/step - loss: 1.4574 - accuracy: 0.4750 - val_loss: 1.6288 - val_accuracy: 0.4256 - lr: 2.5000e-04\n",
      "Epoch 43/50\n",
      "1250/1250 [==============================] - 16s 13ms/step - loss: 1.4529 - accuracy: 0.4773 - val_loss: 1.6164 - val_accuracy: 0.4317 - lr: 2.5000e-04\n",
      "Epoch 44/50\n",
      "1250/1250 [==============================] - 14s 11ms/step - loss: 1.4481 - accuracy: 0.4791 - val_loss: 1.6163 - val_accuracy: 0.4337 - lr: 2.5000e-04\n",
      "Epoch 45/50\n",
      "1250/1250 [==============================] - 14s 11ms/step - loss: 1.4430 - accuracy: 0.4808 - val_loss: 1.6363 - val_accuracy: 0.4254 - lr: 2.5000e-04\n",
      "Epoch 46/50\n",
      "1250/1250 [==============================] - 14s 11ms/step - loss: 1.4155 - accuracy: 0.4915 - val_loss: 1.6234 - val_accuracy: 0.4342 - lr: 1.2500e-04\n",
      "Epoch 47/50\n",
      "1250/1250 [==============================] - 16s 13ms/step - loss: 1.4083 - accuracy: 0.4937 - val_loss: 1.6132 - val_accuracy: 0.4346 - lr: 1.2500e-04\n",
      "Epoch 48/50\n",
      "1250/1250 [==============================] - 18s 14ms/step - loss: 1.4030 - accuracy: 0.4946 - val_loss: 1.6220 - val_accuracy: 0.4271 - lr: 1.2500e-04\n",
      "Epoch 49/50\n",
      "1250/1250 [==============================] - 13s 11ms/step - loss: 1.3984 - accuracy: 0.4963 - val_loss: 1.6207 - val_accuracy: 0.4359 - lr: 1.2500e-04\n",
      "Epoch 50/50\n",
      "1250/1250 [==============================] - 13s 10ms/step - loss: 1.3951 - accuracy: 0.4971 - val_loss: 1.6234 - val_accuracy: 0.4310 - lr: 1.2500e-04\n"
     ]
    }
   ],
   "source": [
    "history = model.fit(X_train,y_train,validation_split=0.2,epochs=50,callbacks=[tensorboard_cb,early_stopping_cb,lr])"
   ]
  },
  {
   "cell_type": "markdown",
   "id": "88f88cc1",
   "metadata": {},
   "source": [
    "AVEC BN"
   ]
  },
  {
   "cell_type": "code",
   "execution_count": 19,
   "id": "366b5b05",
   "metadata": {},
   "outputs": [
    {
     "name": "stdout",
     "output_type": "stream",
     "text": [
      "Epoch 1/50\n",
      "1250/1250 [==============================] - 35s 17ms/step - loss: 1.9923 - accuracy: 0.2738 - val_loss: 2.0049 - val_accuracy: 0.3034 - lr: 0.0010\n",
      "Epoch 2/50\n",
      "1250/1250 [==============================] - 20s 16ms/step - loss: 1.7542 - accuracy: 0.3696 - val_loss: 1.8669 - val_accuracy: 0.3441 - lr: 0.0010\n",
      "Epoch 3/50\n",
      "1250/1250 [==============================] - 20s 16ms/step - loss: 1.6654 - accuracy: 0.4025 - val_loss: 1.8274 - val_accuracy: 0.3609 - lr: 0.0010\n",
      "Epoch 4/50\n",
      "1250/1250 [==============================] - 20s 16ms/step - loss: 1.6093 - accuracy: 0.4288 - val_loss: 1.7569 - val_accuracy: 0.3865 - lr: 0.0010\n",
      "Epoch 5/50\n",
      "1250/1250 [==============================] - 21s 17ms/step - loss: 1.5617 - accuracy: 0.4459 - val_loss: 1.9418 - val_accuracy: 0.3442 - lr: 0.0010\n",
      "Epoch 6/50\n",
      "1250/1250 [==============================] - 21s 17ms/step - loss: 1.5108 - accuracy: 0.4672 - val_loss: 1.6102 - val_accuracy: 0.4262 - lr: 0.0010\n",
      "Epoch 7/50\n",
      "1250/1250 [==============================] - 23s 19ms/step - loss: 1.4690 - accuracy: 0.4809 - val_loss: 1.6230 - val_accuracy: 0.4165 - lr: 0.0010\n",
      "Epoch 8/50\n",
      "1250/1250 [==============================] - 24s 19ms/step - loss: 1.4362 - accuracy: 0.4924 - val_loss: 1.5984 - val_accuracy: 0.4252 - lr: 0.0010\n",
      "Epoch 9/50\n",
      "1250/1250 [==============================] - 21s 17ms/step - loss: 1.4013 - accuracy: 0.5051 - val_loss: 1.4882 - val_accuracy: 0.4753 - lr: 0.0010\n",
      "Epoch 10/50\n",
      "1250/1250 [==============================] - 22s 18ms/step - loss: 1.3626 - accuracy: 0.5178 - val_loss: 1.5839 - val_accuracy: 0.4432 - lr: 0.0010\n",
      "Epoch 11/50\n",
      "1250/1250 [==============================] - 22s 18ms/step - loss: 1.3313 - accuracy: 0.5315 - val_loss: 1.7858 - val_accuracy: 0.3934 - lr: 0.0010\n",
      "Epoch 12/50\n",
      "1250/1250 [==============================] - 21s 17ms/step - loss: 1.3041 - accuracy: 0.5389 - val_loss: 1.6200 - val_accuracy: 0.4518 - lr: 0.0010\n",
      "Epoch 13/50\n",
      "1250/1250 [==============================] - 23s 18ms/step - loss: 1.2767 - accuracy: 0.5512 - val_loss: 1.6442 - val_accuracy: 0.4368 - lr: 0.0010\n",
      "Epoch 14/50\n",
      "1250/1250 [==============================] - 23s 18ms/step - loss: 1.2486 - accuracy: 0.5594 - val_loss: 1.5519 - val_accuracy: 0.4658 - lr: 0.0010\n",
      "Epoch 15/50\n",
      "1250/1250 [==============================] - 20s 16ms/step - loss: 1.1531 - accuracy: 0.5943 - val_loss: 1.3983 - val_accuracy: 0.5185 - lr: 5.0000e-04\n",
      "Epoch 16/50\n",
      "1250/1250 [==============================] - 19s 15ms/step - loss: 1.1215 - accuracy: 0.6045 - val_loss: 1.3701 - val_accuracy: 0.5260 - lr: 5.0000e-04\n",
      "Epoch 17/50\n",
      "1250/1250 [==============================] - 19s 15ms/step - loss: 1.1017 - accuracy: 0.6111 - val_loss: 1.4355 - val_accuracy: 0.5057 - lr: 5.0000e-04\n",
      "Epoch 18/50\n",
      "1250/1250 [==============================] - 19s 15ms/step - loss: 1.0849 - accuracy: 0.6161 - val_loss: 1.4393 - val_accuracy: 0.5017 - lr: 5.0000e-04\n",
      "Epoch 19/50\n",
      "1250/1250 [==============================] - 20s 16ms/step - loss: 1.0705 - accuracy: 0.6220 - val_loss: 1.4890 - val_accuracy: 0.4965 - lr: 5.0000e-04\n",
      "Epoch 20/50\n",
      "1250/1250 [==============================] - 20s 16ms/step - loss: 1.0511 - accuracy: 0.6305 - val_loss: 1.4881 - val_accuracy: 0.4962 - lr: 5.0000e-04\n",
      "Epoch 21/50\n",
      "1250/1250 [==============================] - 19s 15ms/step - loss: 1.0391 - accuracy: 0.6331 - val_loss: 1.4929 - val_accuracy: 0.5056 - lr: 5.0000e-04\n",
      "Epoch 22/50\n",
      "1250/1250 [==============================] - 19s 15ms/step - loss: 0.9687 - accuracy: 0.6555 - val_loss: 1.4021 - val_accuracy: 0.5292 - lr: 2.5000e-04\n",
      "Epoch 23/50\n",
      "1250/1250 [==============================] - 20s 16ms/step - loss: 0.9565 - accuracy: 0.6610 - val_loss: 1.5516 - val_accuracy: 0.5010 - lr: 2.5000e-04\n",
      "Epoch 24/50\n",
      "1250/1250 [==============================] - 19s 16ms/step - loss: 0.9439 - accuracy: 0.6650 - val_loss: 1.3997 - val_accuracy: 0.5333 - lr: 2.5000e-04\n",
      "Epoch 25/50\n",
      "1250/1250 [==============================] - 19s 15ms/step - loss: 0.9365 - accuracy: 0.6679 - val_loss: 1.4520 - val_accuracy: 0.5095 - lr: 2.5000e-04\n",
      "Epoch 26/50\n",
      "1250/1250 [==============================] - 20s 16ms/step - loss: 0.9290 - accuracy: 0.6703 - val_loss: 1.4592 - val_accuracy: 0.5181 - lr: 2.5000e-04\n",
      "Epoch 27/50\n",
      "1250/1250 [==============================] - 19s 16ms/step - loss: 0.8963 - accuracy: 0.6821 - val_loss: 1.4075 - val_accuracy: 0.5356 - lr: 1.2500e-04\n"
     ]
    }
   ],
   "source": [
    "model1 = keras.models.Sequential()\n",
    "model1.add(keras.layers.Flatten(input_shape=(32, 32,3)))\n",
    "for i in range(19):\n",
    "    model1.add(keras.layers.Dense(100,kernel_initializer = \"he_normal\"))\n",
    "    model1.add(keras.layers.BatchNormalization())\n",
    "    model1.add(keras.layers.Activation(\"swish\"))\n",
    "model1.add(keras.layers.Dense(100,kernel_initializer = \"he_normal\"))\n",
    "model1.add(keras.layers.Dense(10,activation=\"softmax\"))\n",
    "\n",
    "tensorboard_cb = keras.callbacks.TensorBoard(log_dir = run_logdir,profile_batch=(100,200))\n",
    "optimizer = keras.optimizers.Nadam()\n",
    "early_stopping_cb = keras.callbacks.EarlyStopping(patience=11)\n",
    "lr = keras.callbacks.ReduceLROnPlateau(factor=0.5,patience = 5)\n",
    "\n",
    "model1.compile(optimizer=optimizer,\n",
    "              loss=\"sparse_categorical_crossentropy\",\n",
    "              metrics=[\"accuracy\"])\n",
    "\n",
    "history1 = model1.fit(X_train,y_train,validation_split=0.2,epochs=50,callbacks=[tensorboard_cb,early_stopping_cb,lr])"
   ]
  },
  {
   "cell_type": "code",
   "execution_count": 26,
   "id": "2026ae35",
   "metadata": {},
   "outputs": [
    {
     "name": "stdout",
     "output_type": "stream",
     "text": [
      "Epoch 1/50\n",
      "1250/1250 [==============================] - 23s 13ms/step - loss: 1.8360 - accuracy: 0.3463 - val_loss: 1.7253 - val_accuracy: 0.3872 - lr: 1.0000e-04\n",
      "Epoch 2/50\n",
      "1250/1250 [==============================] - 16s 12ms/step - loss: 1.6188 - accuracy: 0.4196 - val_loss: 1.6167 - val_accuracy: 0.4308 - lr: 1.0000e-04\n",
      "Epoch 3/50\n",
      "1250/1250 [==============================] - 16s 13ms/step - loss: 1.5228 - accuracy: 0.4567 - val_loss: 1.5783 - val_accuracy: 0.4472 - lr: 1.0000e-04\n",
      "Epoch 4/50\n",
      "1250/1250 [==============================] - 16s 13ms/step - loss: 1.4481 - accuracy: 0.4873 - val_loss: 1.5426 - val_accuracy: 0.4572 - lr: 1.0000e-04\n",
      "Epoch 5/50\n",
      "1250/1250 [==============================] - 18s 14ms/step - loss: 1.3870 - accuracy: 0.5064 - val_loss: 1.5419 - val_accuracy: 0.4579 - lr: 1.0000e-04\n",
      "Epoch 6/50\n",
      "1250/1250 [==============================] - 16s 13ms/step - loss: 1.3326 - accuracy: 0.5253 - val_loss: 1.5017 - val_accuracy: 0.4691 - lr: 1.0000e-04\n",
      "Epoch 7/50\n",
      "1250/1250 [==============================] - 16s 13ms/step - loss: 1.2781 - accuracy: 0.5446 - val_loss: 1.5096 - val_accuracy: 0.4732 - lr: 1.0000e-04\n",
      "Epoch 8/50\n",
      "1250/1250 [==============================] - 17s 13ms/step - loss: 1.2328 - accuracy: 0.5621 - val_loss: 1.4840 - val_accuracy: 0.4802 - lr: 1.0000e-04\n",
      "Epoch 9/50\n",
      "1250/1250 [==============================] - 18s 14ms/step - loss: 1.1863 - accuracy: 0.5778 - val_loss: 1.5133 - val_accuracy: 0.4776 - lr: 1.0000e-04\n",
      "Epoch 10/50\n",
      "1250/1250 [==============================] - 18s 14ms/step - loss: 1.1440 - accuracy: 0.5931 - val_loss: 1.4926 - val_accuracy: 0.4892 - lr: 1.0000e-04\n",
      "Epoch 11/50\n",
      "1250/1250 [==============================] - 15s 12ms/step - loss: 1.1065 - accuracy: 0.6071 - val_loss: 1.5063 - val_accuracy: 0.4870 - lr: 1.0000e-04\n",
      "Epoch 12/50\n",
      "1250/1250 [==============================] - 15s 12ms/step - loss: 1.0648 - accuracy: 0.6248 - val_loss: 1.5492 - val_accuracy: 0.4853 - lr: 1.0000e-04\n",
      "Epoch 13/50\n",
      "1250/1250 [==============================] - 15s 12ms/step - loss: 1.0295 - accuracy: 0.6350 - val_loss: 1.5314 - val_accuracy: 0.5009 - lr: 1.0000e-04\n",
      "Epoch 14/50\n",
      "1250/1250 [==============================] - 15s 12ms/step - loss: 0.9021 - accuracy: 0.6822 - val_loss: 1.5622 - val_accuracy: 0.5008 - lr: 5.0000e-05\n",
      "Epoch 15/50\n",
      "1250/1250 [==============================] - 16s 13ms/step - loss: 0.8598 - accuracy: 0.6982 - val_loss: 1.5840 - val_accuracy: 0.4967 - lr: 5.0000e-05\n",
      "Epoch 16/50\n",
      "1250/1250 [==============================] - 18s 14ms/step - loss: 0.8272 - accuracy: 0.7080 - val_loss: 1.6308 - val_accuracy: 0.5013 - lr: 5.0000e-05\n",
      "Epoch 17/50\n",
      "1250/1250 [==============================] - 17s 13ms/step - loss: 0.7974 - accuracy: 0.7204 - val_loss: 1.6604 - val_accuracy: 0.4979 - lr: 5.0000e-05\n",
      "Epoch 18/50\n",
      "1250/1250 [==============================] - 16s 12ms/step - loss: 0.7680 - accuracy: 0.7320 - val_loss: 1.6896 - val_accuracy: 0.4945 - lr: 5.0000e-05\n",
      "Epoch 19/50\n",
      "1250/1250 [==============================] - 15s 12ms/step - loss: 0.6838 - accuracy: 0.7662 - val_loss: 1.7197 - val_accuracy: 0.4989 - lr: 2.5000e-05\n"
     ]
    }
   ],
   "source": [
    "model2 = keras.models.Sequential()\n",
    "model2.add(keras.layers.Flatten(input_shape=(32, 32,3)))\n",
    "for i in range(20):\n",
    "    model2.add(keras.layers.Dense(100,kernel_initializer = \"lecun_normal\",activation=\"selu\"))\n",
    "model2.add(keras.layers.Dense(10,activation=\"softmax\"))\n",
    "\n",
    "run_logdir = get_run_logdir()\n",
    "\n",
    "tensorboard_cb = keras.callbacks.TensorBoard(log_dir = run_logdir,profile_batch=(100,200))\n",
    "optimizer = keras.optimizers.Nadam(learning_rate=0.0001)\n",
    "early_stopping_cb = keras.callbacks.EarlyStopping(patience=11)\n",
    "lr = keras.callbacks.ReduceLROnPlateau(factor=0.5,patience = 5)\n",
    "\n",
    "\n",
    "model2.compile(optimizer=optimizer,\n",
    "              loss=\"sparse_categorical_crossentropy\",\n",
    "              metrics=[\"accuracy\"])\n",
    "\n",
    "X_means = X_train.mean(axis=0)\n",
    "X_stds = X_train.std(axis=0)\n",
    "X_train_scaled = (X_train - X_means) / X_stds\n",
    "X_test_scaled = (X_test - X_means) / X_stds\n",
    "\n",
    "history1 = model2.fit(X_train_scaled,y_train,validation_split=0.2,epochs=50,callbacks=[early_stopping_cb,lr,tensorboard_cb])"
   ]
  },
  {
   "cell_type": "code",
   "execution_count": 7,
   "id": "ddaa8ab7",
   "metadata": {},
   "outputs": [
    {
     "name": "stdout",
     "output_type": "stream",
     "text": [
      "Epoch 1/50\n",
      "1249/1250 [============================>.] - ETA: 0s - loss: 1.9809 - accuracy: 0.3032INFO:tensorflow:Assets written to: my_cifar10_alpha_dropout_model.x\\assets\n"
     ]
    },
    {
     "name": "stderr",
     "output_type": "stream",
     "text": [
      "INFO:tensorflow:Assets written to: my_cifar10_alpha_dropout_model.x\\assets\n"
     ]
    },
    {
     "name": "stdout",
     "output_type": "stream",
     "text": [
      "1250/1250 [==============================] - 21s 12ms/step - loss: 1.9808 - accuracy: 0.3033 - val_loss: 1.7723 - val_accuracy: 0.3839 - lr: 1.0000e-04\n",
      "Epoch 2/50\n",
      "1246/1250 [============================>.] - ETA: 0s - loss: 1.6859 - accuracy: 0.4020INFO:tensorflow:Assets written to: my_cifar10_alpha_dropout_model.x\\assets\n"
     ]
    },
    {
     "name": "stderr",
     "output_type": "stream",
     "text": [
      "INFO:tensorflow:Assets written to: my_cifar10_alpha_dropout_model.x\\assets\n"
     ]
    },
    {
     "name": "stdout",
     "output_type": "stream",
     "text": [
      "1250/1250 [==============================] - 15s 12ms/step - loss: 1.6851 - accuracy: 0.4022 - val_loss: 1.6296 - val_accuracy: 0.4257 - lr: 1.0000e-04\n",
      "Epoch 3/50\n",
      "1248/1250 [============================>.] - ETA: 0s - loss: 1.5633 - accuracy: 0.4457INFO:tensorflow:Assets written to: my_cifar10_alpha_dropout_model.x\\assets\n"
     ]
    },
    {
     "name": "stderr",
     "output_type": "stream",
     "text": [
      "INFO:tensorflow:Assets written to: my_cifar10_alpha_dropout_model.x\\assets\n"
     ]
    },
    {
     "name": "stdout",
     "output_type": "stream",
     "text": [
      "1250/1250 [==============================] - 15s 12ms/step - loss: 1.5631 - accuracy: 0.4460 - val_loss: 1.5840 - val_accuracy: 0.4421 - lr: 1.0000e-04\n",
      "Epoch 4/50\n",
      "1250/1250 [==============================] - ETA: 0s - loss: 1.4833 - accuracy: 0.4708INFO:tensorflow:Assets written to: my_cifar10_alpha_dropout_model.x\\assets\n"
     ]
    },
    {
     "name": "stderr",
     "output_type": "stream",
     "text": [
      "INFO:tensorflow:Assets written to: my_cifar10_alpha_dropout_model.x\\assets\n"
     ]
    },
    {
     "name": "stdout",
     "output_type": "stream",
     "text": [
      "1250/1250 [==============================] - 15s 12ms/step - loss: 1.4833 - accuracy: 0.4708 - val_loss: 1.5744 - val_accuracy: 0.4603 - lr: 1.0000e-04\n",
      "Epoch 5/50\n",
      "1246/1250 [============================>.] - ETA: 0s - loss: 1.4177 - accuracy: 0.4945INFO:tensorflow:Assets written to: my_cifar10_alpha_dropout_model.x\\assets\n"
     ]
    },
    {
     "name": "stderr",
     "output_type": "stream",
     "text": [
      "INFO:tensorflow:Assets written to: my_cifar10_alpha_dropout_model.x\\assets\n"
     ]
    },
    {
     "name": "stdout",
     "output_type": "stream",
     "text": [
      "1250/1250 [==============================] - 15s 12ms/step - loss: 1.4176 - accuracy: 0.4944 - val_loss: 1.5323 - val_accuracy: 0.4722 - lr: 1.0000e-04\n",
      "Epoch 6/50\n",
      "1250/1250 [==============================] - 13s 10ms/step - loss: 1.3579 - accuracy: 0.5172 - val_loss: 1.5408 - val_accuracy: 0.4788 - lr: 1.0000e-04\n",
      "Epoch 7/50\n",
      "1245/1250 [============================>.] - ETA: 0s - loss: 1.3030 - accuracy: 0.5360INFO:tensorflow:Assets written to: my_cifar10_alpha_dropout_model.x\\assets\n"
     ]
    },
    {
     "name": "stderr",
     "output_type": "stream",
     "text": [
      "INFO:tensorflow:Assets written to: my_cifar10_alpha_dropout_model.x\\assets\n"
     ]
    },
    {
     "name": "stdout",
     "output_type": "stream",
     "text": [
      "1250/1250 [==============================] - 16s 13ms/step - loss: 1.3036 - accuracy: 0.5358 - val_loss: 1.5304 - val_accuracy: 0.4742 - lr: 1.0000e-04\n",
      "Epoch 8/50\n",
      "1248/1250 [============================>.] - ETA: 0s - loss: 1.2593 - accuracy: 0.5498INFO:tensorflow:Assets written to: my_cifar10_alpha_dropout_model.x\\assets\n"
     ]
    },
    {
     "name": "stderr",
     "output_type": "stream",
     "text": [
      "INFO:tensorflow:Assets written to: my_cifar10_alpha_dropout_model.x\\assets\n"
     ]
    },
    {
     "name": "stdout",
     "output_type": "stream",
     "text": [
      "1250/1250 [==============================] - 15s 12ms/step - loss: 1.2591 - accuracy: 0.5499 - val_loss: 1.5253 - val_accuracy: 0.4911 - lr: 1.0000e-04\n",
      "Epoch 9/50\n",
      "1250/1250 [==============================] - 13s 10ms/step - loss: 1.2072 - accuracy: 0.5694 - val_loss: 1.5743 - val_accuracy: 0.4932 - lr: 1.0000e-04\n",
      "Epoch 10/50\n",
      "1250/1250 [==============================] - 15s 12ms/step - loss: 1.1667 - accuracy: 0.5823 - val_loss: 1.5964 - val_accuracy: 0.4881 - lr: 1.0000e-04\n",
      "Epoch 11/50\n",
      "1250/1250 [==============================] - 16s 13ms/step - loss: 1.1296 - accuracy: 0.5948 - val_loss: 1.6154 - val_accuracy: 0.4932 - lr: 1.0000e-04\n",
      "Epoch 12/50\n",
      "1250/1250 [==============================] - 18s 14ms/step - loss: 1.0879 - accuracy: 0.6112 - val_loss: 1.6036 - val_accuracy: 0.4952 - lr: 1.0000e-04\n",
      "Epoch 13/50\n",
      "1250/1250 [==============================] - 14s 11ms/step - loss: 1.0506 - accuracy: 0.6250 - val_loss: 1.6637 - val_accuracy: 0.4935 - lr: 1.0000e-04\n",
      "Epoch 14/50\n",
      "1250/1250 [==============================] - 13s 10ms/step - loss: 0.9368 - accuracy: 0.6647 - val_loss: 1.7101 - val_accuracy: 0.5000 - lr: 5.0000e-05\n",
      "Epoch 15/50\n",
      "1250/1250 [==============================] - 12s 10ms/step - loss: 0.8972 - accuracy: 0.6805 - val_loss: 1.7666 - val_accuracy: 0.5021 - lr: 5.0000e-05\n",
      "Epoch 16/50\n",
      "1250/1250 [==============================] - 13s 11ms/step - loss: 0.8667 - accuracy: 0.6897 - val_loss: 1.8020 - val_accuracy: 0.4997 - lr: 5.0000e-05\n",
      "Epoch 17/50\n",
      "1250/1250 [==============================] - 12s 10ms/step - loss: 0.8351 - accuracy: 0.7002 - val_loss: 1.8418 - val_accuracy: 0.4888 - lr: 5.0000e-05\n",
      "Epoch 18/50\n",
      "1250/1250 [==============================] - 12s 10ms/step - loss: 0.8094 - accuracy: 0.7099 - val_loss: 1.9397 - val_accuracy: 0.4952 - lr: 5.0000e-05\n",
      "Epoch 19/50\n",
      "1250/1250 [==============================] - 13s 10ms/step - loss: 0.7338 - accuracy: 0.7366 - val_loss: 1.9932 - val_accuracy: 0.4963 - lr: 2.5000e-05\n"
     ]
    }
   ],
   "source": [
    "from keras.layers import AlphaDropout\n",
    "\n",
    "model3 = keras.models.Sequential()\n",
    "model3.add(keras.layers.Flatten(input_shape=(32, 32,3)))\n",
    "for i in range(20):\n",
    "    model3.add(keras.layers.Dense(100,kernel_initializer = \"lecun_normal\",activation=\"selu\"))\n",
    "model3.add(AlphaDropout(rate=0.1))\n",
    "model3.add(keras.layers.Dense(10,activation=\"softmax\"))\n",
    "\n",
    "run_logdir = get_run_logdir()\n",
    "\n",
    "tensorboard_cb = keras.callbacks.TensorBoard(log_dir = run_logdir,profile_batch=(100,200))\n",
    "optimizer = keras.optimizers.Nadam(learning_rate=0.0001)\n",
    "early_stopping_cb = keras.callbacks.EarlyStopping(patience=11)\n",
    "lr = keras.callbacks.ReduceLROnPlateau(factor=0.5,patience = 5)\n",
    "checkpoint = keras.callbacks.ModelCheckpoint(\"my_cifar10_alpha_dropout_model.x\", save_best_only=True)\n",
    "\n",
    "\n",
    "model3.compile(optimizer=optimizer,\n",
    "              loss=\"sparse_categorical_crossentropy\",\n",
    "              metrics=[\"accuracy\"])\n",
    "\n",
    "X_means = X_train.mean(axis=0)\n",
    "X_stds = X_train.std(axis=0)\n",
    "X_train_scaled = (X_train - X_means) / X_stds\n",
    "X_test_scaled = (X_test - X_means) / X_stds\n",
    "\n",
    "history3 = model3.fit(X_train_scaled,y_train,validation_split=0.2,epochs=50,callbacks=[early_stopping_cb,lr,tensorboard_cb,checkpoint])"
   ]
  },
  {
   "cell_type": "code",
   "execution_count": null,
   "id": "e528524d",
   "metadata": {},
   "outputs": [],
   "source": []
  },
  {
   "cell_type": "code",
   "execution_count": 12,
   "id": "efdc38d5",
   "metadata": {},
   "outputs": [],
   "source": [
    "model4 = keras.models.clone_model(model3)\n",
    "model4.set_weights(model3.get_weights())"
   ]
  },
  {
   "cell_type": "code",
   "execution_count": 24,
   "id": "7843c550",
   "metadata": {},
   "outputs": [
    {
     "name": "stdout",
     "output_type": "stream",
     "text": [
      "(100, 10000, 10)\n"
     ]
    }
   ],
   "source": [
    "import numpy as np\n",
    "\n",
    "y_probas = np.stack([model4(X_test_scaled,training = True) for sample in range(100)])\n",
    "print(y_probas.shape)"
   ]
  },
  {
   "cell_type": "code",
   "execution_count": 25,
   "id": "4063177e",
   "metadata": {},
   "outputs": [
    {
     "name": "stdout",
     "output_type": "stream",
     "text": [
      "0.4958\n",
      "0.4972\n",
      "[3 8 8 ... 3 5 7]\n",
      "[3 8 8 ... 5 1 7]\n",
      "y_pred_MC[0] =  3\n",
      "y_std_MC[0] =  [0.00128662 0.00290014 0.00174352 0.04871127 0.02121467 0.04483201\n",
      " 0.00104317 0.00237533 0.01042468 0.00327799]\n",
      "y_pred[0] =  3\n"
     ]
    }
   ],
   "source": [
    "y_pred_MC = np.mean(y_probas,axis=0)\n",
    "y_std_MC_class = np.std(y_probas,axis=0)\n",
    "y_pred_class = model4(X_test_scaled,training = False)\n",
    "y_pred_MC = np.argmax(y_std_MC_class,axis=1)\n",
    "y_pred = np.argmax(y_pred_class,axis=1)\n",
    "accuracy_MC = np.mean([y_pred_MC==y_test.flatten()])\n",
    "accuracy = np.mean([y_pred==y_test.flatten()])\n",
    "print(accuracy_MC)\n",
    "print(accuracy)\n",
    "\n",
    "\n",
    "print(y_pred_MC)\n",
    "print(y_test.flatten())\n",
    "print(\"y_pred_MC[0] = \",y_pred_MC[0])\n",
    "print(\"y_std_MC[0] = \",y_std_MC_class[0])\n",
    "print(\"y_pred[0] = \",y_pred[0])\n",
    "\n"
   ]
  }
 ],
 "metadata": {
  "kernelspec": {
   "display_name": ".venv",
   "language": "python",
   "name": "python3"
  },
  "language_info": {
   "codemirror_mode": {
    "name": "ipython",
    "version": 3
   },
   "file_extension": ".py",
   "mimetype": "text/x-python",
   "name": "python",
   "nbconvert_exporter": "python",
   "pygments_lexer": "ipython3",
   "version": "3.8.0"
  }
 },
 "nbformat": 4,
 "nbformat_minor": 5
}
